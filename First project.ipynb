{
 "cells": [
  {
   "cell_type": "code",
   "execution_count": 8,
   "id": "f7fa6810",
   "metadata": {},
   "outputs": [],
   "source": [
    "students = [\n",
    "    {'Ali': {'Math':[99],'Physics': [53,21],'Biology': [34,13],'Chemistry':[60, 24]}},\n",
    "    {'Zara': {'Math':[66],'Physics': [63,11],'Biology': [56,24],'Chemistry':[55, '']}},\n",
    "    {'Hassan': {'Math':[100],'Physics': [13,8],'Biology': [56,8],'Chemistry':[12, 25]}},\n",
    "     ]\n"
   ]
  },
  {
   "cell_type": "code",
   "execution_count": null,
   "id": "1d2bd4d7",
   "metadata": {},
   "outputs": [],
   "source": [
    "1 - Find highest marks in Maths"
   ]
  },
  {
   "cell_type": "code",
   "execution_count": null,
   "id": "0db014ca",
   "metadata": {},
   "outputs": [],
   "source": [
    "2 - Student who failed Physics' practical"
   ]
  },
  {
   "cell_type": "code",
   "execution_count": null,
   "id": "bfb1d162",
   "metadata": {},
   "outputs": [],
   "source": [
    "d3 - calcualte total marks for each student "
   ]
  },
  {
   "cell_type": "raw",
   "id": "356ccc2d",
   "metadata": {},
   "source": [
    "4 -calcuate first three positions according to marks"
   ]
  },
  {
   "cell_type": "code",
   "execution_count": null,
   "id": "3816599d",
   "metadata": {},
   "outputs": [],
   "source": [
    "5 - calcuate total lowest marks in Biology"
   ]
  },
  {
   "cell_type": "code",
   "execution_count": null,
   "id": "d3ebb4aa",
   "metadata": {},
   "outputs": [],
   "source": [
    "6 - Find students who were absent in Chemistry practical(where practical is an empty string)"
   ]
  },
  {
   "cell_type": "code",
   "execution_count": null,
   "id": "945c5e78",
   "metadata": {},
   "outputs": [],
   "source": [
    "7 - Find hightest marks in practicals(all subjects)"
   ]
  },
  {
   "cell_type": "code",
   "execution_count": null,
   "id": "f03af2a0",
   "metadata": {},
   "outputs": [],
   "source": [
    "8 - Find lowest theory marks in Physics"
   ]
  },
  {
   "cell_type": "code",
   "execution_count": null,
   "id": "f658f8c9",
   "metadata": {},
   "outputs": [],
   "source": [
    "9 - calcuate grade of each student"
   ]
  },
  {
   "cell_type": "raw",
   "id": "d479b69f",
   "metadata": {},
   "source": [
    "10 - write a function which which receive a data formate 'dd/mm/yyyy' and convert it to 'dd-mm-yyyy"
   ]
  },
  {
   "cell_type": "code",
   "execution_count": null,
   "id": "73cbc801",
   "metadata": {},
   "outputs": [],
   "source": [
    "11 - write a function which receive a string as parameter and then determines if the string is palindrom? \n",
    "research what is palindrom. note: The function returns True if the  string is palindrom otherwise false"
   ]
  },
  {
   "cell_type": "code",
   "execution_count": null,
   "id": "68b01852",
   "metadata": {},
   "outputs": [],
   "source": [
    "12 - Write a function that prints the numbers from 1 to 100 and for multiples of ‘3’ print “Fizz” instead of the \n",
    "number and for the multiples of ‘5’print “Buzz”."
   ]
  },
  {
   "cell_type": "code",
   "execution_count": 13,
   "id": "bffc6b9b",
   "metadata": {},
   "outputs": [],
   "source": [
    "a = [1,2,3,2,5,6,7,9,10,5,2,1,3,3,22]\n"
   ]
  },
  {
   "cell_type": "code",
   "execution_count": null,
   "id": "62d56b0a",
   "metadata": {},
   "outputs": [],
   "source": [
    "13 - remove duplicates from list a"
   ]
  },
  {
   "cell_type": "code",
   "execution_count": 14,
   "id": "815c1abd",
   "metadata": {},
   "outputs": [],
   "source": [
    "b = ['i', 'me', 'you', 'they']"
   ]
  },
  {
   "cell_type": "code",
   "execution_count": 16,
   "id": "e9e0f5fc",
   "metadata": {},
   "outputs": [
    {
     "data": {
      "text/plain": [
       "'imeyouthey'"
      ]
     },
     "execution_count": 16,
     "metadata": {},
     "output_type": "execute_result"
    }
   ],
   "source": [
    "14 - convert b to a string so that it becomes imeyouthey'"
   ]
  },
  {
   "cell_type": "code",
   "execution_count": null,
   "id": "662cf645",
   "metadata": {},
   "outputs": [],
   "source": [
    "15 - loop through b and print each element along with it's index"
   ]
  },
  {
   "cell_type": "code",
   "execution_count": 19,
   "id": "c4ba2c5e",
   "metadata": {},
   "outputs": [
    {
     "data": {
      "text/plain": [
       "3.141592653589793"
      ]
     },
     "execution_count": 19,
     "metadata": {},
     "output_type": "execute_result"
    }
   ],
   "source": [
    "import math as mt \n",
    "mt.pi"
   ]
  },
  {
   "cell_type": "code",
   "execution_count": null,
   "id": "12176548",
   "metadata": {},
   "outputs": [],
   "source": [
    "16 - with the help of format function print the value of pi only upto 3 decimal places"
   ]
  },
  {
   "cell_type": "code",
   "execution_count": null,
   "id": "3b940b6f",
   "metadata": {},
   "outputs": [],
   "source": [
    "s = 'strings are same as lists but immutable'"
   ]
  },
  {
   "cell_type": "code",
   "execution_count": null,
   "id": "835748fe",
   "metadata": {},
   "outputs": [],
   "source": [
    "17 - slice string s so that it only show from the index 4 to 20"
   ]
  },
  {
   "cell_type": "code",
   "execution_count": null,
   "id": "0196ab46",
   "metadata": {},
   "outputs": [],
   "source": [
    "18 - count how many times an alphabet is apeared in sting s. The result should be a dictionay with alphabet as\n",
    "key and number of times it appeared as it value. e:g\n",
    "    {\n",
    "        s:12,\n",
    "        b:2\n",
    "    }"
   ]
  },
  {
   "cell_type": "code",
   "execution_count": null,
   "id": "bb9a6f35",
   "metadata": {},
   "outputs": [],
   "source": [
    "19 - from math module, import log and pi"
   ]
  },
  {
   "cell_type": "code",
   "execution_count": null,
   "id": "ad90cb23",
   "metadata": {},
   "outputs": [],
   "source": [
    "x = [12, 3, 6, 7, 2, 3, 6, 11, 14]"
   ]
  },
  {
   "cell_type": "code",
   "execution_count": null,
   "id": "c4261159",
   "metadata": {},
   "outputs": [],
   "source": [
    "20 - using list comprehension, filter numbers which are > 10 and then add 5 to them. result should be\n",
    "res = [17, 16, 19]"
   ]
  },
  {
   "cell_type": "code",
   "execution_count": null,
   "id": "b20c7dd2",
   "metadata": {},
   "outputs": [],
   "source": [
    "s2 = 'strings are same as lists but immutable'"
   ]
  },
  {
   "cell_type": "code",
   "execution_count": null,
   "id": "cc87660f",
   "metadata": {},
   "outputs": [],
   "source": [
    "21 - print each letter of s2 along with it's index"
   ]
  },
  {
   "cell_type": "code",
   "execution_count": null,
   "id": "5ffb069b",
   "metadata": {},
   "outputs": [],
   "source": [
    "22 - split the s2 into a list so that it becomes ['strings', 'are', 'same', 'as', 'lists', 'but', 'immutable'] "
   ]
  },
  {
   "cell_type": "code",
   "execution_count": null,
   "id": "ade4961c",
   "metadata": {},
   "outputs": [],
   "source": [
    "s4 = ['strings', 'are', 'same', 'as', 'lists', 'but', 'immutable'] "
   ]
  },
  {
   "cell_type": "code",
   "execution_count": null,
   "id": "8787b864",
   "metadata": {},
   "outputs": [],
   "source": [
    "23 - convert s4 into a string"
   ]
  },
  {
   "cell_type": "code",
   "execution_count": null,
   "id": "d7e198e6",
   "metadata": {},
   "outputs": [],
   "source": [
    "numbers = {'name':1, 'two':2, 'age':3}"
   ]
  },
  {
   "cell_type": "code",
   "execution_count": null,
   "id": "b91cd99f",
   "metadata": {},
   "outputs": [],
   "source": [
    "24 - print all the keys in numbers"
   ]
  },
  {
   "cell_type": "code",
   "execution_count": null,
   "id": "7170f560",
   "metadata": {},
   "outputs": [],
   "source": [
    "25 - print all the values in numbers"
   ]
  },
  {
   "cell_type": "code",
   "execution_count": null,
   "id": "3297a5c9",
   "metadata": {},
   "outputs": [],
   "source": [
    "26 = Rename 'name' key to 'firstname'"
   ]
  },
  {
   "cell_type": "code",
   "execution_count": null,
   "id": "e8038789",
   "metadata": {},
   "outputs": [],
   "source": []
  },
  {
   "cell_type": "code",
   "execution_count": null,
   "id": "352db1a1",
   "metadata": {},
   "outputs": [],
   "source": []
  },
  {
   "cell_type": "code",
   "execution_count": null,
   "id": "9d340428",
   "metadata": {},
   "outputs": [],
   "source": []
  }
 ],
 "metadata": {
  "kernelspec": {
   "display_name": "Python 3 (ipykernel)",
   "language": "python",
   "name": "python3"
  },
  "language_info": {
   "codemirror_mode": {
    "name": "ipython",
    "version": 3
   },
   "file_extension": ".py",
   "mimetype": "text/x-python",
   "name": "python",
   "nbconvert_exporter": "python",
   "pygments_lexer": "ipython3",
   "version": "3.9.7"
  }
 },
 "nbformat": 4,
 "nbformat_minor": 5
}
