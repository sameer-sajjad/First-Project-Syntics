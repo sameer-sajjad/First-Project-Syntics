{
 "cells": [
  {
   "cell_type": "code",
   "execution_count": 159,
   "id": "debfeefe",
   "metadata": {},
   "outputs": [],
   "source": [
    "students = [\n",
    "    {'Ali': {'Math':[99],'Physics': [53,21],'Biology': [34,13],'Chemistry':[60, 24]}},\n",
    "    {'Zara': {'Math':[60],'Physics': [63,11],'Biology': [56,24],'Chemistry':[55, '']}},\n",
    "    {'Hassan': {'Math':[100],'Physics': [13,8],'Biology': [56,8],'Chemistry':[12, 25]}},\n",
    "     ]\n"
   ]
  },
  {
   "cell_type": "code",
   "execution_count": 15,
   "id": "a7cc8be9",
   "metadata": {},
   "outputs": [
    {
     "name": "stdout",
     "output_type": "stream",
     "text": [
      "100\n"
     ]
    }
   ],
   "source": [
    "#Find highest marks in Math\n",
    "\n",
    "def highest_mark(data):\n",
    "    highest = 0\n",
    "    for x in students:\n",
    "        for y in x :\n",
    "            marks = x[y]['Math'][0]\n",
    "            if marks > highest:\n",
    "                highest = marks\n",
    "            else:\n",
    "                highest = highest\n",
    "    print(highest)        \n",
    "            \n",
    "    \n",
    "highest_mark(students)        "
   ]
  },
  {
   "cell_type": "code",
   "execution_count": null,
   "id": "2776409c",
   "metadata": {},
   "outputs": [],
   "source": [
    "#Students who failed Physics Practical"
   ]
  },
  {
   "cell_type": "code",
   "execution_count": 149,
   "id": "d23480b1",
   "metadata": {},
   "outputs": [
    {
     "name": "stdout",
     "output_type": "stream",
     "text": [
      "{'Hassan': 8}\n"
     ]
    }
   ],
   "source": [
    "lst = {}\n",
    "def failed_physics_practical(data_list):\n",
    "    for x in students:\n",
    "        for name, key in x.items():\n",
    "            for y in key:\n",
    "                marks = key['Physics'][1]\n",
    "                if marks < 10:\n",
    "                    lst[name] = marks\n",
    "                    \n",
    "    print(lst)           \n",
    "                    \n",
    "    \n",
    "    \n",
    "    \n",
    "failed_physics_practical(students)    "
   ]
  },
  {
   "cell_type": "code",
   "execution_count": 170,
   "id": "6cfb7f9e",
   "metadata": {},
   "outputs": [
    {
     "name": "stdout",
     "output_type": "stream",
     "text": [
      "{'Ali': 304, 'Zara': 269, 'Hassan': 222}\n"
     ]
    }
   ],
   "source": [
    "#Calculate total marks for each student\n",
    "dic = {}\n",
    "def total_students(data):\n",
    "    for x in students:\n",
    "        for name, val in x.items():\n",
    "            for y in val:\n",
    "                marks = [i for i in val[y] if i!=\"\"]\n",
    "                if name in dic:\n",
    "                    dic[name] = dic[name] + sum(marks)\n",
    "                else:\n",
    "                    dic[name] = sum(marks)\n",
    "            \n",
    "    print(dic)\n",
    "    \n",
    "total_students(students)    "
   ]
  },
  {
   "cell_type": "code",
   "execution_count": 215,
   "id": "fbecaf53",
   "metadata": {},
   "outputs": [
    {
     "name": "stdout",
     "output_type": "stream",
     "text": [
      "The first position is:  [304]\n",
      "The second position is:  [269]\n",
      "The third position is:  222\n"
     ]
    }
   ],
   "source": [
    "#calculate positions\n",
    "lst = []\n",
    "def calculate_positions(data_list):\n",
    "    for x in students:\n",
    "        for y in x:\n",
    "            marks = x[y]['Math'][0] + sum([i for i in x[y]['Physics'] if i!=\"\"]) + sum([i for i in x[y]['Biology'] if i!=\"\"]) + sum([i for i in x[y]['Chemistry'] if i!=\"\"])\n",
    "            lst.append(marks)\n",
    "            lst.sort(reverse=True)\n",
    "            first = lst[:1][0]\n",
    "            second = lst[1:2][0]\n",
    "            third = lst[-1:][0]\n",
    "    print(\"The first position is: \",first)\n",
    "    print(\"The second position is: \",second)\n",
    "    print(\"The third position is: \",third)\n",
    "        \n",
    "calculate_positions(students)    \n",
    "\n"
   ]
  },
  {
   "cell_type": "code",
   "execution_count": 217,
   "id": "6df41215",
   "metadata": {},
   "outputs": [
    {
     "name": "stdout",
     "output_type": "stream",
     "text": [
      "The total lowest marks in biology is:  47\n"
     ]
    }
   ],
   "source": [
    "#Calculate Total lowest marks in biology\n",
    "bio_list = []\n",
    "def lowest_in_biology(data):\n",
    "    for x in students:\n",
    "        for y in x:\n",
    "            marks = sum([i for i in x[y][\"Biology\"] if i!=\"\"])\n",
    "            bio_list.append(marks)\n",
    "            bio_list.sort()\n",
    "            \n",
    "            \n",
    "    print(\"The total lowest marks in biology is: \",bio_list[:1][0])        \n",
    "    \n",
    "    \n",
    "lowest_in_biology(students)    "
   ]
  },
  {
   "cell_type": "code",
   "execution_count": 224,
   "id": "9a9d5b02",
   "metadata": {},
   "outputs": [
    {
     "name": "stdout",
     "output_type": "stream",
     "text": [
      "{'Zara': 'Absent in Chemistry Practical'}\n"
     ]
    }
   ],
   "source": [
    "#Find student who were absent in Chemistry Practical classs\n",
    "absent_pract= {}\n",
    "def absent_student(data):\n",
    "    for x in students:\n",
    "        for name, val in x.items():\n",
    "            pract = val['Chemistry'][1]\n",
    "            if pract == \"\":\n",
    "                absent_pract[name] = \"Absent in Chemistry Practical\"\n",
    "                \n",
    "    print(absent_pract)        \n",
    "absent_student(students)\n",
    "    "
   ]
  },
  {
   "cell_type": "code",
   "execution_count": 281,
   "id": "c6635b7b",
   "metadata": {},
   "outputs": [
    {
     "name": "stdout",
     "output_type": "stream",
     "text": [
      "The total highest marks in practicals are :  58\n"
     ]
    }
   ],
   "source": [
    "#Highest marks in all practicals\n",
    "lst = []\n",
    "lst_chem = []\n",
    "def highest_in_practicals(data):\n",
    "    for x in students:\n",
    "        for y in x:\n",
    "            pract_phy = [i for i in x[y]['Physics'] if i !=\"\"][1]\n",
    "            pract_bio = [i for i in x[y]['Biology'] if i !=\"\"][1]\n",
    "            for i in x[y]['Chemistry']:\n",
    "                if i != \"\":\n",
    "                    pract_chem = x[y]['Chemistry'][1]\n",
    "                else:\n",
    "                    pract_chem = 0\n",
    "            \n",
    "            total_pract = (pract_phy + pract_chem + pract_bio)\n",
    "            lst.append(total_pract)\n",
    "            lst.sort(reverse=True)\n",
    "    print(\"The total highest marks in practicals are : \",lst[:1][0])\n",
    "                \n",
    "            \n",
    "            \n",
    "            \n",
    "highest_in_practicals(students)    "
   ]
  },
  {
   "cell_type": "code",
   "execution_count": 285,
   "id": "0d41762b",
   "metadata": {},
   "outputs": [
    {
     "name": "stdout",
     "output_type": "stream",
     "text": [
      "The lowest marks in Physics Theory are : 13\n"
     ]
    }
   ],
   "source": [
    "#Lowest theory marks in Physics\n",
    "lowest_in_phy_theory = 0\n",
    "def lowest_in_physics_theory(data):\n",
    "    for x in students:\n",
    "        for y in x :\n",
    "            marks = x[y][\"Physics\"][0]\n",
    "            lowest_in_phy_theory = marks\n",
    "            if marks < lowest_in_phy_theory:\n",
    "                lowest_in_phy_theory = marks\n",
    "    print(\"The lowest marks in Physics Theory are :\", lowest_in_phy_theory)\n",
    "                \n",
    "       \n",
    "    \n",
    "lowest_in_physics_theory(students)    "
   ]
  },
  {
   "cell_type": "code",
   "execution_count": 306,
   "id": "32cde590",
   "metadata": {},
   "outputs": [
    {
     "name": "stdout",
     "output_type": "stream",
     "text": [
      "Ali  got 'B' \n",
      "Zara  got 'C' \n",
      "Hassan  got 'D' \n"
     ]
    }
   ],
   "source": [
    "#Grade of each student\n",
    "t = {}\n",
    "total_marks = 400\n",
    "def calculating_grade(data):\n",
    "    for x in students:\n",
    "        for name, val in x.items():\n",
    "            for j in val:\n",
    "                marks = [i for i in val[j] if i!=\"\"]\n",
    "                \n",
    "                if name in t :\n",
    "                    t[name] = t[name] + sum(marks)\n",
    "                else:\n",
    "                    t[name] = sum(marks)\n",
    "                    \n",
    "    for k in t:\n",
    "        obtained_percentage = (t[k] / total_marks)*100\n",
    "        if obtained_percentage >= 95:\n",
    "            print(k,\" got 'A+' \")\n",
    "        elif obtained_percentage >= 85 and obtained_percentage < 95 :\n",
    "            print(k,\" got 'A' \")\n",
    "        elif obtained_percentage >= 75 and obtained_percentage < 85 :\n",
    "            print(k,\" got 'B' \")\n",
    "        elif obtained_percentage >= 65 and obtained_percentage < 75 :\n",
    "            print(k,\" got 'C' \")\n",
    "        elif obtained_percentage >= 50 and obtained_percentage < 65 :\n",
    "            print(k,\" got 'D' \")\n",
    "        elif obtained_percentage >= 49 and obtained_percentage < 65 :\n",
    "            print(k,\" got 'E' \")  \n",
    "        else:\n",
    "            print(k, \"got 'F' \")\n",
    "        \n",
    "calculating_grade(students)    \n",
    "\n",
    "\n",
    "\n"
   ]
  },
  {
   "cell_type": "code",
   "execution_count": 313,
   "id": "7d7d978b",
   "metadata": {},
   "outputs": [
    {
     "name": "stdout",
     "output_type": "stream",
     "text": [
      "26-12-2021\n"
     ]
    }
   ],
   "source": [
    "#function to convert dateformat\n",
    "\n",
    "\n",
    "sample_date = \"26/12/2021\"\n",
    "def date_format(date):    \n",
    "    if type(date) == str:\n",
    "        print(date[:2]+'-'+date[3:5]+'-'+date[6:])\n",
    "            \n",
    "    else:\n",
    "        print(\"invalid input\")\n",
    "    \n",
    "    \n",
    "date_format(sample_date)    "
   ]
  },
  {
   "cell_type": "code",
   "execution_count": 314,
   "id": "52bf2653",
   "metadata": {},
   "outputs": [
    {
     "name": "stdout",
     "output_type": "stream",
     "text": [
      "True\n"
     ]
    }
   ],
   "source": [
    "#Given string is palindrome\n",
    "def checking_palindrome(data):\n",
    "    if data == data[::-1]:\n",
    "        print(True)\n",
    "    else:\n",
    "        print(False)\n",
    "    \n",
    "    \n",
    "    \n",
    "checking_palindrome(\"SAS\")    "
   ]
  },
  {
   "cell_type": "code",
   "execution_count": 317,
   "id": "6a916683",
   "metadata": {},
   "outputs": [
    {
     "name": "stdout",
     "output_type": "stream",
     "text": [
      "[1, 2, 3, 5, 6, 7, 9, 10, 22]\n"
     ]
    }
   ],
   "source": [
    "#Remove Duplicates from list\n",
    "a = [1,2,3,2,5,6,7,9,10,5,2,1,3,3,22]\n",
    "\n",
    "def remove_dup(data):\n",
    "    after_effect =  list(dict.fromkeys(data))\n",
    "    print(after_effect)\n",
    "    \n",
    "remove_dup(a)    "
   ]
  },
  {
   "cell_type": "code",
   "execution_count": 318,
   "id": "bb7d96ec",
   "metadata": {},
   "outputs": [
    {
     "name": "stdout",
     "output_type": "stream",
     "text": [
      "imeyouthey\n"
     ]
    }
   ],
   "source": [
    "#convert b to a string so that it becomes imeyouthey'\n",
    "\n",
    "b = ['i', 'me', 'you', 'they']\n",
    "\n",
    "def combine(data_list):\n",
    "    my_list = \"\"\n",
    "    for x in data_list:\n",
    "        my_list = my_list + x\n",
    "        \n",
    "    print(my_list)    \n",
    "        \n",
    "\n",
    "    \n",
    "combine(b)    "
   ]
  },
  {
   "cell_type": "code",
   "execution_count": 322,
   "id": "24aa34b8",
   "metadata": {},
   "outputs": [
    {
     "name": "stdout",
     "output_type": "stream",
     "text": [
      "0 i\n",
      "1 me\n",
      "2 you\n",
      "3 they\n"
     ]
    }
   ],
   "source": [
    "#loop through b and print each element along with it's index\n",
    "for count, ele in enumerate(b):\n",
    "    print(count, ele)"
   ]
  },
  {
   "cell_type": "code",
   "execution_count": null,
   "id": "522c9221",
   "metadata": {},
   "outputs": [],
   "source": [
    "#with the help of format function print the value of pi only upto 3 decimal places\n",
    "import math as mt\n",
    "def pi_funct(data):\n",
    "    \n",
    "    x = \"The value of pi upto 3 decimal places is {:.3} \".format(mt.pi)\n",
    "    print(x)\n",
    "\n",
    "\n",
    "pi_funct(mt.pi)"
   ]
  },
  {
   "cell_type": "code",
   "execution_count": null,
   "id": "18b5abd3",
   "metadata": {},
   "outputs": [],
   "source": [
    "s = 'strings are same as lists but immutable'\n",
    "\n",
    "print(\"The string from index four to index twenty is : \", s[4:21])"
   ]
  },
  {
   "cell_type": "code",
   "execution_count": null,
   "id": "86c85bfc",
   "metadata": {},
   "outputs": [],
   "source": [
    "#count how many times an alphabet is apeared in sting s. The result should be a dictionay with alphabet as\n",
    "#key and number of times it appeared as it value. e:g {s:12, a:3}\n",
    "\n",
    "def count_func(data):\n",
    "    count = 1\n",
    "    name = {}\n",
    "    \n",
    "    for x in data:\n",
    "        if x not in name:\n",
    "            name[x] = count\n",
    "        elif x in name:\n",
    "            name[x] = name[x] + 1\n",
    "    \n",
    "    print(name)\n",
    "    \n",
    "count_func(s)    \n",
    "\n",
    "\n"
   ]
  },
  {
   "cell_type": "code",
   "execution_count": null,
   "id": "f3dd242d",
   "metadata": {},
   "outputs": [],
   "source": [
    "from math import log, pi"
   ]
  },
  {
   "cell_type": "code",
   "execution_count": null,
   "id": "725d7e2c",
   "metadata": {},
   "outputs": [],
   "source": [
    "s2 = 'strings are same as lists but immutable'\n",
    "for count, ele in enumerate(s2):\n",
    "        x = \"The number indexes are {} and the val {},\".format(count,ele)\n",
    "        print(x)"
   ]
  },
  {
   "cell_type": "code",
   "execution_count": 323,
   "id": "924272ef",
   "metadata": {},
   "outputs": [],
   "source": [
    "x = [12, 3, 6, 7, 2, 3, 6, 11, 14]"
   ]
  },
  {
   "cell_type": "code",
   "execution_count": 325,
   "id": "5abf23ad",
   "metadata": {},
   "outputs": [
    {
     "name": "stdout",
     "output_type": "stream",
     "text": [
      "[17, 16, 19]\n"
     ]
    }
   ],
   "source": [
    "#using list comprehension, filter numbers which are > 10 and then add 5 to them. result should be\n",
    "#res = [17, 16, 19]\n",
    "\n",
    "res = [i+5 for i in x if i >10]\n",
    "print(res)"
   ]
  },
  {
   "cell_type": "code",
   "execution_count": null,
   "id": "ebec6c9e",
   "metadata": {},
   "outputs": [],
   "source": [
    "#split the s2 into a list so that it becomes ['strings', 'are', 'same', 'as', 'lists', 'but', 'immutable'] "
   ]
  },
  {
   "cell_type": "code",
   "execution_count": 326,
   "id": "4b2c28e1",
   "metadata": {},
   "outputs": [
    {
     "name": "stdout",
     "output_type": "stream",
     "text": [
      "['strings', 'are', 'same', 'as', 'lists', 'but', 'immutable']\n"
     ]
    }
   ],
   "source": [
    "s2 = 'strings are same as lists but immutable'\n",
    "s3 = s2.split(' ')\n",
    "print(s3)"
   ]
  },
  {
   "cell_type": "code",
   "execution_count": null,
   "id": "1a2d8c15",
   "metadata": {},
   "outputs": [],
   "source": [
    "#convert s4 into a string\n",
    "s4 = ['strings', 'are', 'same', 'as', 'lists', 'but', 'immutable'] \n",
    "def combine(data):\n",
    "    merge = \"\"\n",
    "    for x in data:\n",
    "        merge = merge + str(x)\n",
    "        \n",
    "    print(merge)    \n",
    "    \n",
    "    \n",
    "    \n",
    "combine(s4)    "
   ]
  },
  {
   "cell_type": "code",
   "execution_count": null,
   "id": "a308bc74",
   "metadata": {},
   "outputs": [],
   "source": [
    "#print keys\n",
    "numbers = {'name':1, 'two':2, 'age':3}\n",
    "for x in numbers:\n",
    "    print (x)"
   ]
  },
  {
   "cell_type": "code",
   "execution_count": null,
   "id": "86e5a814",
   "metadata": {},
   "outputs": [],
   "source": [
    "#print all the values in numbers\n",
    "for x in numbers:\n",
    "    print(numbers[x])"
   ]
  },
  {
   "cell_type": "code",
   "execution_count": null,
   "id": "b8044274",
   "metadata": {},
   "outputs": [],
   "source": [
    "#Rename 'name' key to 'firstname'\n",
    "old_key = \"name\"\n",
    "new_key = \"firstname\"\n",
    "\n",
    "numbers[new_key] = numbers.pop(old_key)\n",
    "numbers"
   ]
  },
  {
   "cell_type": "code",
   "execution_count": 339,
   "id": "24b08acb",
   "metadata": {},
   "outputs": [
    {
     "name": "stdout",
     "output_type": "stream",
     "text": [
      "Other numbers: 1\n",
      "Other numbers: 2\n",
      "Fizzzzzz\n",
      "Other numbers: 4\n",
      "Buzzzzzz\n",
      "Fizzzzzz\n",
      "Other numbers: 7\n",
      "Other numbers: 8\n",
      "Fizzzzzz\n",
      "Buzzzzzz\n",
      "Other numbers: 11\n",
      "Fizzzzzz\n",
      "Other numbers: 13\n",
      "Other numbers: 14\n",
      "Fizzzzzz\n",
      "Other numbers: 16\n",
      "Other numbers: 17\n",
      "Fizzzzzz\n",
      "Other numbers: 19\n",
      "Buzzzzzz\n",
      "Fizzzzzz\n",
      "Other numbers: 22\n",
      "Other numbers: 23\n",
      "Fizzzzzz\n",
      "Buzzzzzz\n",
      "Other numbers: 26\n",
      "Fizzzzzz\n",
      "Other numbers: 28\n",
      "Other numbers: 29\n",
      "Fizzzzzz\n",
      "Other numbers: 31\n",
      "Other numbers: 32\n",
      "Fizzzzzz\n",
      "Other numbers: 34\n",
      "Buzzzzzz\n",
      "Fizzzzzz\n",
      "Other numbers: 37\n",
      "Other numbers: 38\n",
      "Fizzzzzz\n",
      "Buzzzzzz\n",
      "Other numbers: 41\n",
      "Fizzzzzz\n",
      "Other numbers: 43\n",
      "Other numbers: 44\n",
      "Fizzzzzz\n",
      "Other numbers: 46\n",
      "Other numbers: 47\n",
      "Fizzzzzz\n",
      "Other numbers: 49\n",
      "Buzzzzzz\n",
      "Fizzzzzz\n",
      "Other numbers: 52\n",
      "Other numbers: 53\n",
      "Fizzzzzz\n",
      "Buzzzzzz\n",
      "Other numbers: 56\n",
      "Fizzzzzz\n",
      "Other numbers: 58\n",
      "Other numbers: 59\n",
      "Fizzzzzz\n",
      "Other numbers: 61\n",
      "Other numbers: 62\n",
      "Fizzzzzz\n",
      "Other numbers: 64\n",
      "Buzzzzzz\n",
      "Fizzzzzz\n",
      "Other numbers: 67\n",
      "Other numbers: 68\n",
      "Fizzzzzz\n",
      "Buzzzzzz\n",
      "Other numbers: 71\n",
      "Fizzzzzz\n",
      "Other numbers: 73\n",
      "Other numbers: 74\n",
      "Fizzzzzz\n",
      "Other numbers: 76\n",
      "Other numbers: 77\n",
      "Fizzzzzz\n",
      "Other numbers: 79\n",
      "Buzzzzzz\n",
      "Fizzzzzz\n",
      "Other numbers: 82\n",
      "Other numbers: 83\n",
      "Fizzzzzz\n",
      "Buzzzzzz\n",
      "Other numbers: 86\n",
      "Fizzzzzz\n",
      "Other numbers: 88\n",
      "Other numbers: 89\n",
      "Fizzzzzz\n",
      "Other numbers: 91\n",
      "Other numbers: 92\n",
      "Fizzzzzz\n",
      "Other numbers: 94\n",
      "Buzzzzzz\n",
      "Fizzzzzz\n",
      "Other numbers: 97\n",
      "Other numbers: 98\n",
      "Fizzzzzz\n"
     ]
    }
   ],
   "source": [
    "#Write a function that prints the numbers from 1 to 100 and for multiples of ‘3’ print “Fizz” instead of the \n",
    "#number and for the multiples of ‘5’print “Buzz”.\n",
    "\n",
    "\n",
    "\n",
    "def number_func():\n",
    "    for x in range(1,100):\n",
    "        if x%3 == 0:\n",
    "            print(\"Fizzzzzz\")\n",
    "        elif x%5 == 0:\n",
    "            print(\"Buzzzzzz\")\n",
    "        else:\n",
    "            print(\"Other numbers:\",x)\n",
    "        #print(x)\n",
    "    \n",
    "    \n",
    "    \n",
    "number_func()    "
   ]
  },
  {
   "cell_type": "code",
   "execution_count": null,
   "id": "07881b3e",
   "metadata": {},
   "outputs": [],
   "source": []
  }
 ],
 "metadata": {
  "kernelspec": {
   "display_name": "Python 3 (ipykernel)",
   "language": "python",
   "name": "python3"
  },
  "language_info": {
   "codemirror_mode": {
    "name": "ipython",
    "version": 3
   },
   "file_extension": ".py",
   "mimetype": "text/x-python",
   "name": "python",
   "nbconvert_exporter": "python",
   "pygments_lexer": "ipython3",
   "version": "3.9.7"
  }
 },
 "nbformat": 4,
 "nbformat_minor": 5
}
